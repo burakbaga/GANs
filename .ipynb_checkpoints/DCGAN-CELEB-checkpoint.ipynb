{
 "cells": [
  {
   "cell_type": "markdown",
   "metadata": {},
   "source": [
    "# DCGAN\n",
    "Bir önceki yazıda bahsettiğim Vanilla GAN modelinden daha iyi sonuçlar veren DCGAN modelini inceleyelim. Makalede de bahsedildiği gibi MaxPooling ve Dense layerlar yerine stride ve transposed convolution kullarak downsampling ve upsampling işlemleri uygulanır. Bunlara yazının ilerleyen kısımlarında değineceğiz.  \n",
    "Generator random olarak alınan noise verisini kullanarak bir resim üretir. Bu resmi girdi olarak alan discriminator modeli basit bir sınıflandırma modeli ile gerçek yada sahte olarak sınıflandırır. Generatorün amacı discriminator modelini kandırmaktır. \n",
    "\n",
    "### DCGAN Genel Özeti\n",
    "* Max Pooling katmanlarını Convolutional Stride ile değiştir.\n",
    "* Upsampling için transposed convolution kullan.\n",
    "* Dense layer kullanma. \n",
    "* Generator ve Discriminator modellerin outputları dışında Batch Normalization kullan.\n",
    "* Generatorde relu kullan, Discriminatorde LeakyReLU kullan."
   ]
  },
  {
   "cell_type": "code",
   "execution_count": 1,
   "metadata": {
    "id": "LT1WcDWr7igO"
   },
   "outputs": [],
   "source": [
    "import os \n",
    "import glob\n",
    "import numpy as np \n",
    "from PIL import Image\n",
    "import matplotlib.pyplot as plt \n",
    "\n",
    "import tensorflow as tf\n",
    "\n",
    "from tensorflow.keras.layers import (Dense,\n",
    "                                     Reshape,\n",
    "                                     Conv2DTranspose\n",
    "                                     ,Conv2D,\n",
    "                                     BatchNormalization,\n",
    "                                     LeakyReLU,\n",
    "                                     Input,\n",
    "                                     Dropout,\n",
    "                                     Flatten)\n",
    "\n",
    "from tensorflow.keras.models import Model\n",
    "from tqdm import tqdm\n",
    "import pickle\n"
   ]
  },
  {
   "cell_type": "code",
   "execution_count": 2,
   "metadata": {},
   "outputs": [
    {
     "data": {
      "text/plain": [
       "'2.4.1'"
      ]
     },
     "execution_count": 2,
     "metadata": {},
     "output_type": "execute_result"
    }
   ],
   "source": [
    "tf.__version__"
   ]
  },
  {
   "cell_type": "code",
   "execution_count": 3,
   "metadata": {},
   "outputs": [],
   "source": [
    "from tensorflow.compat.v1 import ConfigProto\n",
    "from tensorflow.compat.v1 import InteractiveSession\n",
    "\n",
    "config = ConfigProto()\n",
    "config.gpu_options.allow_growth = True\n",
    "session = InteractiveSession(config=config)"
   ]
  },
  {
   "cell_type": "markdown",
   "metadata": {},
   "source": [
    "## Kullanılacak Veri Seti\n",
    "Biz DCGAN kullanarak random noise verisinden insan yüzleri oluşturmaya çalışcağız. Bunu yapabilmek için CelebFaces Attributes (CelebA) veri sertini kullanacağız. CelebA verisetinde 200 binden fazla insan yüzü bulunuyor. Bu yüzleri kullanarak generator modeli eğitip benzer insan yüzleri oluşturmasını bekliyoruz."
   ]
  },
  {
   "cell_type": "code",
   "execution_count": 4,
   "metadata": {
    "id": "7S2M8HT4Qcnt"
   },
   "outputs": [],
   "source": [
    "DATA_PATH = \"C:\\\\Users\\\\bagat\\\\Desktop\\\\datasets\\\\faceceleb\\\\img_align_celeba\\\\img_align_celeba\\\\*jpg\"\n",
    "H,W,C = 64,64,3\n",
    "CROP_FACE = (30,55,150,175) #left top right bottom\n",
    "LATENT_DIM = 100\n",
    "INPUT_SHAPE = (H,W,C)\n",
    "EPOCHS = 30000\n",
    "BATCH_SIZE = 64\n",
    "SAMPLE_PERIOD = 200"
   ]
  },
  {
   "cell_type": "code",
   "execution_count": 5,
   "metadata": {
    "colab": {
     "base_uri": "https://localhost:8080/"
    },
    "id": "wLw-k_kFZrqu",
    "outputId": "e369960c-c5f8-48a5-92b3-e2e6a3e398af"
   },
   "outputs": [
    {
     "name": "stdout",
     "output_type": "stream",
     "text": [
      "Total image use for DCGAN :  202599\n"
     ]
    }
   ],
   "source": [
    "all_images_path = glob.glob(DATA_PATH)\n",
    "print(\"Total image use for DCGAN : \",len(all_images_path))\n",
    "\n"
   ]
  },
  {
   "cell_type": "markdown",
   "metadata": {},
   "source": [
    "Burada resimleri PIL kütüphanesi kullanarak okuyoruz. Crop metodu ile resimlerden yüz kısımlarını kesiyoruz ve resize ile modele göndereceğimiz 64x64 şekline getiriyoruz. Aynı zamanda okuduğumuz resimleri -1 ile 1 arasına normalize ediyoruz. "
   ]
  },
  {
   "cell_type": "code",
   "execution_count": 6,
   "metadata": {
    "colab": {
     "base_uri": "https://localhost:8080/"
    },
    "id": "IpCtbkgDQElE",
    "outputId": "65ca0a24-e54f-4a42-82cb-f9ff80383e1d"
   },
   "outputs": [
    {
     "name": "stderr",
     "output_type": "stream",
     "text": [
      "100%|█████████████████████████████████████████████████████████████████████████| 202599/202599 [04:29<00:00, 750.56it/s]\n"
     ]
    }
   ],
   "source": [
    "x_train = [(np.array(Image.open(i).crop(CROP_FACE).resize((H,W)))-127.5)/127.5 for i in tqdm(all_images_path)]"
   ]
  },
  {
   "cell_type": "code",
   "execution_count": 7,
   "metadata": {
    "colab": {
     "base_uri": "https://localhost:8080/"
    },
    "id": "8YQMMrl3Q1c0",
    "outputId": "be5a0236-a79e-44b6-8106-cd963b865fbc"
   },
   "outputs": [
    {
     "data": {
      "text/plain": [
       "(202599, 64, 64, 3)"
      ]
     },
     "execution_count": 7,
     "metadata": {},
     "output_type": "execute_result"
    }
   ],
   "source": [
    "x_train = np.array(x_train)\n",
    "x_train.shape"
   ]
  },
  {
   "cell_type": "code",
   "execution_count": 8,
   "metadata": {
    "colab": {
     "base_uri": "https://localhost:8080/"
    },
    "id": "ZKUIHW-aTAEh",
    "outputId": "e3fd64cd-ebdc-4a8a-ce2d-dd103492870f"
   },
   "outputs": [
    {
     "data": {
      "text/plain": [
       "array([[0.99215686, 0.99215686],\n",
       "       [0.99215686, 0.99215686]])"
      ]
     },
     "execution_count": 8,
     "metadata": {},
     "output_type": "execute_result"
    }
   ],
   "source": [
    "x_train[0][:2,:2,0] # 0-1 normalizde"
   ]
  },
  {
   "cell_type": "code",
   "execution_count": 9,
   "metadata": {},
   "outputs": [],
   "source": [
    "# with open(\"pickles/x_train.pickle\",\"wb\") as file:\n",
    "#     pickle.dump(x_train,file)"
   ]
  },
  {
   "cell_type": "markdown",
   "metadata": {},
   "source": [
    "Veri setinde bulunan resimlerden random olarak 16 tane seçip bunları plot ediyoruz"
   ]
  },
  {
   "cell_type": "code",
   "execution_count": 48,
   "metadata": {
    "colab": {
     "base_uri": "https://localhost:8080/",
     "height": 222
    },
    "id": "a8P8Yq2qTFYk",
    "outputId": "437b6440-a19c-4adc-964c-ca61899a22ba"
   },
   "outputs": [
    {
     "data": {
      "image/png": "[encoded data removed]",
      "text/plain": [
       "<Figure size 432x288 with 16 Axes>"
      ]
     },
     "metadata": {
      "needs_background": "light"
     },
     "output_type": "display_data"
    }
   ],
   "source": [
    "rows = 4 \n",
    "cols = 4\n",
    "fig,axs = plt.subplots(rows,cols)\n",
    "for i in range(rows):\n",
    "    for j in range(cols):\n",
    "        idx = np.random.randint(0,x_train.shape[0])\n",
    "        axs[i,j].imshow(x_train[idx]*0.5+0.5)\n",
    "        axs[i,j].axis(\"off\")"
   ]
  },
  {
   "cell_type": "markdown",
   "metadata": {},
   "source": [
    "## Transpose Convolution \n",
    "Transposed Convolution girdinin, öğrenebilen filtreler kullanarak upsample işlemi yapılmasıdır.  \n",
    "Aşağıdaki örnekte yapılan işlemi takip ederek daha iyi anlayabilirsiniz. "
   ]
  },
  {
   "cell_type": "markdown",
   "metadata": {},
   "source": [
    "# Modeller \n",
    "# Generator \n",
    "Generator input olarak belirtilen latent dim boyutunda bu örnekte 100 random sayı alır. Bu random sayıları bir Dense layera göndeririz. Daha sonra Conv2DTranspose ile tranpose conv işlemine sokarız. Alınan inputun Height ve Width değerleri her adımda 2 kat olacak şekilde büyütülür. Bunu stride değeri ile sağlarız. En son katmanda 64x64x3 boyutlarında bir resim çıktısı bekleriz. Çıktı katmanınında resmi -1 ile 1 arasına scale ettiğimiz için aktivasyon fonksiyonu olarak tanh kullanırız.  "
   ]
  },
  {
   "cell_type": "code",
   "execution_count": 49,
   "metadata": {
    "id": "gZH2E1I9TzoD"
   },
   "outputs": [],
   "source": [
    "def build_generator(latent_dim):\n",
    "    inputx = Input(shape=(latent_dim,))\n",
    "    x = Dense(4*4*512)(inputx)\n",
    "    x = LeakyReLU(alpha=.2)(x)\n",
    "    x = Reshape([4,4,512])(x)\n",
    "    x = Conv2DTranspose(256,4,strides=2,padding=\"same\")(x) #16x16\n",
    "#     x = BatchNormalization()(x)\n",
    "    x = LeakyReLU(alpha=.2)(x)\n",
    "    x = Conv2DTranspose(128,4,strides=2,padding=\"same\")(x) # 32x32\n",
    "    x = LeakyReLU(alpha=.2)(x)\n",
    "#     x = BatchNormalization()(x)\n",
    "    x = Conv2DTranspose(64,4,strides=2,padding=\"same\")(x) # 64x64\n",
    "    x = LeakyReLU(alpha=.2)(x)\n",
    "#     x = BatchNormalization()(x)\n",
    "\n",
    " \n",
    "    x = Conv2DTranspose(3,5,strides=2,padding=\"same\",activation=\"tanh\")(x)\n",
    "\n",
    "    model = Model(inputx,x)\n",
    "    return model\n",
    "\n",
    "    \n",
    "    "
   ]
  },
  {
   "cell_type": "code",
   "execution_count": 50,
   "metadata": {
    "colab": {
     "base_uri": "https://localhost:8080/",
     "height": 325
    },
    "id": "pHPxSCMoUHQZ",
    "outputId": "051380a7-744d-4762-8c79-9e2e31cc28aa"
   },
   "outputs": [
    {
     "data": {
      "text/plain": [
       "<matplotlib.image.AxesImage at 0x1d02277b370>"
      ]
     },
     "execution_count": 50,
     "metadata": {},
     "output_type": "execute_result"
    },
    {
     "data": {
      "image/png": "[encoded data removed]",
      "text/plain": [
       "<Figure size 432x288 with 1 Axes>"
      ]
     },
     "metadata": {
      "needs_background": "light"
     },
     "output_type": "display_data"
    }
   ],
   "source": [
    "generator_model = build_generator(LATENT_DIM)\n",
    "noise = np.random.randn(1,LATENT_DIM)\n",
    "fake_img = generator_model.predict(noise)\n",
    "plt.imshow(fake_img[0,:,:,0])"
   ]
  },
  {
   "cell_type": "code",
   "execution_count": 51,
   "metadata": {},
   "outputs": [
    {
     "name": "stdout",
     "output_type": "stream",
     "text": [
      "Model: \"model_17\"\n",
      "_________________________________________________________________\n",
      "Layer (type)                 Output Shape              Param #   \n",
      "=================================================================\n",
      "input_20 (InputLayer)        [(None, 100)]             0         \n",
      "_________________________________________________________________\n",
      "dense_15 (Dense)             (None, 8192)              827392    \n",
      "_________________________________________________________________\n",
      "leaky_re_lu_60 (LeakyReLU)   (None, 8192)              0         \n",
      "_________________________________________________________________\n",
      "reshape_7 (Reshape)          (None, 4, 4, 512)         0         \n",
      "_________________________________________________________________\n",
      "conv2d_transpose_26 (Conv2DT (None, 8, 8, 256)         2097408   \n",
      "_________________________________________________________________\n",
      "leaky_re_lu_61 (LeakyReLU)   (None, 8, 8, 256)         0         \n",
      "_________________________________________________________________\n",
      "conv2d_transpose_27 (Conv2DT (None, 16, 16, 128)       524416    \n",
      "_________________________________________________________________\n",
      "leaky_re_lu_62 (LeakyReLU)   (None, 16, 16, 128)       0         \n",
      "_________________________________________________________________\n",
      "conv2d_transpose_28 (Conv2DT (None, 32, 32, 64)        131136    \n",
      "_________________________________________________________________\n",
      "leaky_re_lu_63 (LeakyReLU)   (None, 32, 32, 64)        0         \n",
      "_________________________________________________________________\n",
      "conv2d_transpose_29 (Conv2DT (None, 64, 64, 3)         4803      \n",
      "=================================================================\n",
      "Total params: 3,585,155\n",
      "Trainable params: 3,585,155\n",
      "Non-trainable params: 0\n",
      "_________________________________________________________________\n"
     ]
    }
   ],
   "source": [
    "generator_model.summary()"
   ]
  },
  {
   "cell_type": "markdown",
   "metadata": {},
   "source": [
    "### Discriminator Modeli \n",
    "Generator modelden gelen 64x64x3 boyutlarında resmi bir CNN modeline sokarız. Burada amacımız sınıflandırma yapmaktı. Çıktı olarak resmin gerçek mi sahtemi olduğunu döndürürüz. Bunun için 0 ile 1 arasında değer sigmoid aktivasyon fonksiyonu kullanırız. "
   ]
  },
  {
   "cell_type": "code",
   "execution_count": 52,
   "metadata": {
    "id": "pmQvMG7LUHVH"
   },
   "outputs": [],
   "source": [
    "def build_discriminator(input_shape):\n",
    "    inputx = Input(shape=input_shape)\n",
    "    x = Conv2D(64,3,padding=\"same\")(inputx)\n",
    "    x = LeakyReLU(alpha=.2)(x)\n",
    "    x = Dropout(.3)(x)\n",
    "    x = Conv2D(64,3,strides=(2,2),padding=\"same\")(x)\n",
    "    x = LeakyReLU(alpha=.2)(x)\n",
    "    x = Dropout(.3)(x)\n",
    "    x = Conv2D(128,3,strides=(2,2),padding=\"same\")(x)\n",
    "    x = LeakyReLU(alpha=.2)(x)\n",
    "    x = Dropout(.3)(x)\n",
    "    x = Conv2D(128,3,strides=(2,2),padding=\"same\")(x)\n",
    "    x = LeakyReLU(alpha=.2)(x)\n",
    "    x = Flatten()(x)\n",
    "    x = Dense(1,activation=\"sigmoid\")(x)\n",
    "    \n",
    "    model = Model(inputx,x)\n",
    "    return model"
   ]
  },
  {
   "cell_type": "code",
   "execution_count": 53,
   "metadata": {
    "colab": {
     "base_uri": "https://localhost:8080/"
    },
    "id": "1ExR08jmUHXJ",
    "outputId": "84ecb122-f97b-43db-c454-e2bf31f2177b"
   },
   "outputs": [
    {
     "name": "stdout",
     "output_type": "stream",
     "text": [
      "Model: \"model_18\"\n",
      "_________________________________________________________________\n",
      "Layer (type)                 Output Shape              Param #   \n",
      "=================================================================\n",
      "input_21 (InputLayer)        [(None, 64, 64, 3)]       0         \n",
      "_________________________________________________________________\n",
      "conv2d_34 (Conv2D)           (None, 64, 64, 64)        1792      \n",
      "_________________________________________________________________\n",
      "leaky_re_lu_64 (LeakyReLU)   (None, 64, 64, 64)        0         \n",
      "_________________________________________________________________\n",
      "dropout_22 (Dropout)         (None, 64, 64, 64)        0         \n",
      "_________________________________________________________________\n",
      "conv2d_35 (Conv2D)           (None, 32, 32, 64)        36928     \n",
      "_________________________________________________________________\n",
      "leaky_re_lu_65 (LeakyReLU)   (None, 32, 32, 64)        0         \n",
      "_________________________________________________________________\n",
      "dropout_23 (Dropout)         (None, 32, 32, 64)        0         \n",
      "_________________________________________________________________\n",
      "conv2d_36 (Conv2D)           (None, 16, 16, 128)       73856     \n",
      "_________________________________________________________________\n",
      "leaky_re_lu_66 (LeakyReLU)   (None, 16, 16, 128)       0         \n",
      "_________________________________________________________________\n",
      "dropout_24 (Dropout)         (None, 16, 16, 128)       0         \n",
      "_________________________________________________________________\n",
      "conv2d_37 (Conv2D)           (None, 8, 8, 128)         147584    \n",
      "_________________________________________________________________\n",
      "leaky_re_lu_67 (LeakyReLU)   (None, 8, 8, 128)         0         \n",
      "_________________________________________________________________\n",
      "flatten_8 (Flatten)          (None, 8192)              0         \n",
      "_________________________________________________________________\n",
      "dense_16 (Dense)             (None, 1)                 8193      \n",
      "=================================================================\n",
      "Total params: 268,353\n",
      "Trainable params: 268,353\n",
      "Non-trainable params: 0\n",
      "_________________________________________________________________\n"
     ]
    }
   ],
   "source": [
    "disc_model = build_discriminator(INPUT_SHAPE)\n",
    "disc_model.summary()"
   ]
  },
  {
   "cell_type": "markdown",
   "metadata": {
    "id": "pW8-mbuNZl6K"
   },
   "source": [
    "## Combined Model\n",
    "Generator ve Discriminayor modeli birleştirerek Combined model oluştururuz. Combined modelde generator input olarak noise alır ve bir resim üretir. Üretilen resim discriminator modele gönderilir. Discriminator model alınan resim sonucunda gerçek yada sahte çıktısını verir. "
   ]
  },
  {
   "cell_type": "code",
   "execution_count": 54,
   "metadata": {
    "colab": {
     "base_uri": "https://localhost:8080/"
    },
    "id": "dyaKBmFgX9Ll",
    "outputId": "9b52850c-7249-451b-cce4-549195dbd973"
   },
   "outputs": [
    {
     "name": "stdout",
     "output_type": "stream",
     "text": [
      "Model: \"model_21\"\n",
      "_________________________________________________________________\n",
      "Layer (type)                 Output Shape              Param #   \n",
      "=================================================================\n",
      "input_24 (InputLayer)        [(None, 100)]             0         \n",
      "_________________________________________________________________\n",
      "model_19 (Functional)        (None, 64, 64, 3)         3585155   \n",
      "_________________________________________________________________\n",
      "model_20 (Functional)        (None, 1)                 268353    \n",
      "=================================================================\n",
      "Total params: 3,853,508\n",
      "Trainable params: 3,585,155\n",
      "Non-trainable params: 268,353\n",
      "_________________________________________________________________\n"
     ]
    }
   ],
   "source": [
    "generator_model = build_generator(LATENT_DIM)\n",
    "disc_model = build_discriminator(INPUT_SHAPE)\n",
    "disc_model.compile(optimizer=tf.keras.optimizers.Adam(lr=0.0002, beta_1=0.5),loss=\"binary_crossentropy\",metrics=[\"accuracy\"])\n",
    "\n",
    "input = Input(shape=(LATENT_DIM,))\n",
    "img = generator_model(input)\n",
    "disc_model.trainable=False\n",
    "pred = disc_model(img)\n",
    "\n",
    "combined_model = Model(input,pred)\n",
    "combined_model.compile(optimizer=tf.keras.optimizers.Adam(lr=0.0002, beta_1=0.5),loss=\"binary_crossentropy\")\n",
    "\n",
    "combined_model.summary()"
   ]
  },
  {
   "cell_type": "code",
   "execution_count": 55,
   "metadata": {
    "id": "ME5KjtFde192"
   },
   "outputs": [],
   "source": [
    "d_losses = list()\n",
    "g_losses = list()\n",
    "\n",
    "ones = np.ones(BATCH_SIZE)\n",
    "zeros = np.zeros(BATCH_SIZE)"
   ]
  },
  {
   "cell_type": "code",
   "execution_count": 56,
   "metadata": {
    "id": "Xb1CsSUTfv7p"
   },
   "outputs": [],
   "source": [
    "def save_sample(epoch):\n",
    "    rows,cols = 4,4\n",
    "    noise = np.random.randn(rows*cols,LATENT_DIM)\n",
    "    imgs = generator_model.predict(noise)\n",
    "\n",
    "    fig,axs = plt.subplots(rows,cols)\n",
    "    ids = 0 \n",
    "    for i in range(rows):\n",
    "        for j in range(cols):\n",
    "            axs[i,j].imshow(imgs[ids].reshape(H,W,3)*.5+0.5)\n",
    "            axs[i,j].axis(\"off\")\n",
    "            ids +=1\n",
    "\n",
    "    fig.savefig(f\"C:\\\\Users\\\\bagat\\\\Desktop\\\\Projects\\\\GAN\\\\generated\\\\{epoch}.png\")\n",
    "    plt.close()"
   ]
  },
  {
   "cell_type": "markdown",
   "metadata": {},
   "source": [
    "## Model Eğitimi \n",
    "Generator bir image üretir. Bunu sahte olarak etiketleyip discriminator modele göndeririz. Aynı zamanda discriminator modele gerçek resimde gönderilir. Bunu da gerçek etiketi ile etiketleriz. Bu şekilde discriminator modelin sahte ve gerçek resim arasında ayrım yapmaya yönelik eğitmeye başlarız.\n",
    "Bu adımdan sonra sıra combined modeldedir. Generator modele noise gönderilir. Generator bir resim üretir. Bunu gerçek olarak etiketleyip discriminator modele göndeririz. Discriminator model gönderilen resmin gerçek mi sahte mi olduğu konusunda çıktı üretir. Ancak biz gönderdiğimiz resmi gerçek olarak etiketlemiştik. Bu resmin gerçeğe yakınsaması için backpropagation ile generator model eğitilir. Bir sonraki adımda daha gerçek resimler üretilir."
   ]
  },
  {
   "cell_type": "code",
   "execution_count": 57,
   "metadata": {
    "colab": {
     "base_uri": "https://localhost:8080/"
    },
    "id": "mZW2YGIBdlz9",
    "outputId": "95229224-b2cc-4df2-8c3c-a48a5330cfea"
   },
   "outputs": [
    {
     "name": "stdout",
     "output_type": "stream",
     "text": [
      "Epoch : 0 d_loss : 0.68 d_acc : 0.45 g_loss: 0.69\n",
      "Epoch : 100 d_loss : 0.66 d_acc : 0.68 g_loss: 1.03\n",
      "Epoch : 200 d_loss : 0.68 d_acc : 0.59 g_loss: 0.77\n",
      "Epoch : 300 d_loss : 0.73 d_acc : 0.20 g_loss: 0.69\n",
      "Epoch : 400 d_loss : 0.70 d_acc : 0.32 g_loss: 0.58\n",
      "Epoch : 500 d_loss : 0.67 d_acc : 0.70 g_loss: 0.78\n",
      "Epoch : 600 d_loss : 0.72 d_acc : 0.56 g_loss: 0.90\n",
      "Epoch : 700 d_loss : 0.66 d_acc : 0.68 g_loss: 0.81\n",
      "Epoch : 800 d_loss : 0.59 d_acc : 0.80 g_loss: 0.69\n",
      "Epoch : 900 d_loss : 0.70 d_acc : 0.38 g_loss: 0.65\n",
      "Epoch : 1000 d_loss : 0.68 d_acc : 0.68 g_loss: 0.80\n",
      "Epoch : 1100 d_loss : 0.59 d_acc : 0.69 g_loss: 0.99\n",
      "Epoch : 1200 d_loss : 0.65 d_acc : 0.63 g_loss: 1.00\n",
      "Epoch : 1300 d_loss : 0.68 d_acc : 0.59 g_loss: 0.88\n",
      "Epoch : 1400 d_loss : 0.62 d_acc : 0.78 g_loss: 0.82\n",
      "Epoch : 1500 d_loss : 0.62 d_acc : 0.74 g_loss: 0.87\n",
      "Epoch : 1600 d_loss : 0.58 d_acc : 0.67 g_loss: 0.99\n",
      "Epoch : 1700 d_loss : 0.60 d_acc : 0.62 g_loss: 1.15\n",
      "Epoch : 1800 d_loss : 0.51 d_acc : 0.91 g_loss: 0.85\n",
      "Epoch : 1900 d_loss : 0.72 d_acc : 0.52 g_loss: 0.81\n",
      "Epoch : 2000 d_loss : 0.74 d_acc : 0.60 g_loss: 0.91\n",
      "Epoch : 2100 d_loss : 0.64 d_acc : 0.78 g_loss: 0.85\n",
      "Epoch : 2200 d_loss : 0.83 d_acc : 0.30 g_loss: 0.86\n",
      "Epoch : 2300 d_loss : 1.12 d_acc : 0.23 g_loss: 0.65\n",
      "Epoch : 2400 d_loss : 0.58 d_acc : 0.75 g_loss: 1.09\n",
      "Epoch : 2500 d_loss : 0.72 d_acc : 0.47 g_loss: 0.86\n",
      "Epoch : 2600 d_loss : 0.65 d_acc : 0.73 g_loss: 0.78\n",
      "Epoch : 2700 d_loss : 0.67 d_acc : 0.66 g_loss: 0.84\n",
      "Epoch : 2800 d_loss : 0.69 d_acc : 0.62 g_loss: 0.73\n",
      "Epoch : 2900 d_loss : 0.67 d_acc : 0.66 g_loss: 0.78\n",
      "Epoch : 3000 d_loss : 0.71 d_acc : 0.45 g_loss: 0.72\n",
      "Epoch : 3100 d_loss : 0.69 d_acc : 0.59 g_loss: 0.76\n",
      "Epoch : 3200 d_loss : 0.60 d_acc : 0.88 g_loss: 0.84\n",
      "Epoch : 3300 d_loss : 0.68 d_acc : 0.64 g_loss: 0.75\n",
      "Epoch : 3400 d_loss : 0.69 d_acc : 0.55 g_loss: 0.72\n",
      "Epoch : 3500 d_loss : 0.70 d_acc : 0.45 g_loss: 0.69\n",
      "Epoch : 3600 d_loss : 0.69 d_acc : 0.51 g_loss: 0.69\n",
      "Epoch : 3700 d_loss : 0.71 d_acc : 0.29 g_loss: 0.75\n",
      "Epoch : 3800 d_loss : 0.71 d_acc : 0.39 g_loss: 0.70\n",
      "Epoch : 3900 d_loss : 0.70 d_acc : 0.43 g_loss: 0.69\n",
      "Epoch : 4000 d_loss : 0.70 d_acc : 0.48 g_loss: 0.73\n",
      "Epoch : 4100 d_loss : 0.65 d_acc : 0.62 g_loss: 0.80\n",
      "Epoch : 4200 d_loss : 0.68 d_acc : 0.54 g_loss: 0.75\n",
      "Epoch : 4300 d_loss : 0.66 d_acc : 0.70 g_loss: 0.74\n",
      "Epoch : 4400 d_loss : 0.71 d_acc : 0.41 g_loss: 0.71\n",
      "Epoch : 4500 d_loss : 0.69 d_acc : 0.48 g_loss: 0.72\n",
      "Epoch : 4600 d_loss : 0.69 d_acc : 0.55 g_loss: 0.71\n",
      "Epoch : 4700 d_loss : 0.67 d_acc : 0.52 g_loss: 0.79\n",
      "Epoch : 4800 d_loss : 0.68 d_acc : 0.52 g_loss: 0.74\n",
      "Epoch : 4900 d_loss : 0.68 d_acc : 0.55 g_loss: 0.76\n",
      "Epoch : 5000 d_loss : 0.69 d_acc : 0.45 g_loss: 0.74\n",
      "Epoch : 5100 d_loss : 0.67 d_acc : 0.71 g_loss: 0.77\n",
      "Epoch : 5200 d_loss : 0.65 d_acc : 0.64 g_loss: 0.73\n",
      "Epoch : 5300 d_loss : 0.72 d_acc : 0.31 g_loss: 0.72\n",
      "Epoch : 5400 d_loss : 0.69 d_acc : 0.56 g_loss: 0.75\n",
      "Epoch : 5500 d_loss : 0.70 d_acc : 0.43 g_loss: 0.70\n",
      "Epoch : 5600 d_loss : 0.67 d_acc : 0.61 g_loss: 0.79\n",
      "Epoch : 5700 d_loss : 0.69 d_acc : 0.42 g_loss: 0.73\n",
      "Epoch : 5800 d_loss : 0.65 d_acc : 0.63 g_loss: 0.86\n",
      "Epoch : 5900 d_loss : 0.65 d_acc : 0.63 g_loss: 0.76\n",
      "Epoch : 6000 d_loss : 0.70 d_acc : 0.47 g_loss: 0.74\n",
      "Epoch : 6100 d_loss : 0.63 d_acc : 0.72 g_loss: 0.81\n",
      "Epoch : 6200 d_loss : 0.65 d_acc : 0.66 g_loss: 0.83\n",
      "Epoch : 6300 d_loss : 0.69 d_acc : 0.59 g_loss: 0.77\n",
      "Epoch : 6400 d_loss : 0.67 d_acc : 0.66 g_loss: 0.77\n",
      "Epoch : 6500 d_loss : 0.72 d_acc : 0.41 g_loss: 0.75\n",
      "Epoch : 6600 d_loss : 0.71 d_acc : 0.47 g_loss: 0.74\n",
      "Epoch : 6700 d_loss : 0.75 d_acc : 0.37 g_loss: 0.81\n",
      "Epoch : 6800 d_loss : 0.70 d_acc : 0.51 g_loss: 0.85\n",
      "Epoch : 6900 d_loss : 0.70 d_acc : 0.52 g_loss: 0.72\n",
      "Epoch : 7000 d_loss : 0.67 d_acc : 0.51 g_loss: 0.72\n",
      "Epoch : 7100 d_loss : 0.66 d_acc : 0.58 g_loss: 0.87\n",
      "Epoch : 7200 d_loss : 0.72 d_acc : 0.23 g_loss: 0.70\n",
      "Epoch : 7300 d_loss : 0.71 d_acc : 0.48 g_loss: 0.81\n",
      "Epoch : 7400 d_loss : 0.68 d_acc : 0.58 g_loss: 0.82\n",
      "Epoch : 7500 d_loss : 0.66 d_acc : 0.59 g_loss: 0.83\n",
      "Epoch : 7600 d_loss : 0.63 d_acc : 0.64 g_loss: 0.77\n",
      "Epoch : 7700 d_loss : 0.62 d_acc : 0.73 g_loss: 0.87\n",
      "Epoch : 7800 d_loss : 0.68 d_acc : 0.50 g_loss: 0.77\n",
      "Epoch : 7900 d_loss : 0.70 d_acc : 0.41 g_loss: 0.75\n",
      "Epoch : 8000 d_loss : 0.68 d_acc : 0.56 g_loss: 0.75\n",
      "Epoch : 8100 d_loss : 0.68 d_acc : 0.58 g_loss: 0.90\n",
      "Epoch : 8200 d_loss : 0.65 d_acc : 0.62 g_loss: 0.86\n",
      "Epoch : 8300 d_loss : 0.68 d_acc : 0.54 g_loss: 0.82\n",
      "Epoch : 8400 d_loss : 0.69 d_acc : 0.41 g_loss: 0.75\n",
      "Epoch : 8500 d_loss : 0.71 d_acc : 0.42 g_loss: 0.79\n",
      "Epoch : 8600 d_loss : 0.68 d_acc : 0.58 g_loss: 0.80\n",
      "Epoch : 8700 d_loss : 0.71 d_acc : 0.45 g_loss: 0.75\n",
      "Epoch : 8800 d_loss : 0.69 d_acc : 0.48 g_loss: 0.76\n",
      "Epoch : 8900 d_loss : 0.60 d_acc : 0.73 g_loss: 0.78\n",
      "Epoch : 9000 d_loss : 0.66 d_acc : 0.65 g_loss: 0.79\n",
      "Epoch : 9100 d_loss : 0.68 d_acc : 0.55 g_loss: 0.83\n",
      "Epoch : 9200 d_loss : 0.60 d_acc : 0.72 g_loss: 0.91\n",
      "Epoch : 9300 d_loss : 0.61 d_acc : 0.73 g_loss: 0.78\n",
      "Epoch : 9400 d_loss : 0.64 d_acc : 0.69 g_loss: 0.83\n",
      "Epoch : 9500 d_loss : 0.62 d_acc : 0.66 g_loss: 0.80\n",
      "Epoch : 9600 d_loss : 0.71 d_acc : 0.51 g_loss: 0.91\n",
      "Epoch : 9700 d_loss : 0.66 d_acc : 0.55 g_loss: 0.81\n",
      "Epoch : 9800 d_loss : 0.66 d_acc : 0.62 g_loss: 0.86\n",
      "Epoch : 9900 d_loss : 0.62 d_acc : 0.73 g_loss: 0.85\n",
      "Epoch : 10000 d_loss : 0.72 d_acc : 0.48 g_loss: 0.76\n",
      "Epoch : 10100 d_loss : 0.62 d_acc : 0.64 g_loss: 0.76\n",
      "Epoch : 10200 d_loss : 0.63 d_acc : 0.64 g_loss: 1.03\n",
      "Epoch : 10300 d_loss : 0.65 d_acc : 0.66 g_loss: 0.81\n",
      "Epoch : 10400 d_loss : 0.68 d_acc : 0.48 g_loss: 0.73\n",
      "Epoch : 10500 d_loss : 0.64 d_acc : 0.61 g_loss: 0.76\n",
      "Epoch : 10600 d_loss : 0.68 d_acc : 0.52 g_loss: 0.80\n",
      "Epoch : 10700 d_loss : 0.63 d_acc : 0.63 g_loss: 0.79\n",
      "Epoch : 10800 d_loss : 0.66 d_acc : 0.58 g_loss: 0.80\n",
      "Epoch : 10900 d_loss : 0.64 d_acc : 0.60 g_loss: 0.89\n",
      "Epoch : 11000 d_loss : 0.67 d_acc : 0.58 g_loss: 0.94\n",
      "Epoch : 11100 d_loss : 0.71 d_acc : 0.45 g_loss: 0.81\n",
      "Epoch : 11200 d_loss : 0.65 d_acc : 0.60 g_loss: 0.82\n",
      "Epoch : 11300 d_loss : 0.66 d_acc : 0.63 g_loss: 0.89\n",
      "Epoch : 11400 d_loss : 0.64 d_acc : 0.64 g_loss: 0.85\n",
      "Epoch : 11500 d_loss : 0.66 d_acc : 0.60 g_loss: 0.88\n",
      "Epoch : 11600 d_loss : 0.56 d_acc : 0.74 g_loss: 1.14\n",
      "Epoch : 11700 d_loss : 0.63 d_acc : 0.64 g_loss: 0.95\n",
      "Epoch : 11800 d_loss : 0.64 d_acc : 0.59 g_loss: 0.86\n",
      "Epoch : 11900 d_loss : 0.61 d_acc : 0.62 g_loss: 0.84\n",
      "Epoch : 12000 d_loss : 0.63 d_acc : 0.63 g_loss: 0.82\n",
      "Epoch : 12100 d_loss : 0.65 d_acc : 0.62 g_loss: 0.88\n",
      "Epoch : 12200 d_loss : 0.62 d_acc : 0.62 g_loss: 0.80\n",
      "Epoch : 12300 d_loss : 0.67 d_acc : 0.56 g_loss: 0.92\n",
      "Epoch : 12400 d_loss : 0.60 d_acc : 0.67 g_loss: 0.97\n",
      "Epoch : 12500 d_loss : 0.70 d_acc : 0.49 g_loss: 0.88\n",
      "Epoch : 12600 d_loss : 0.59 d_acc : 0.73 g_loss: 0.90\n",
      "Epoch : 12700 d_loss : 0.59 d_acc : 0.70 g_loss: 0.79\n",
      "Epoch : 12800 d_loss : 0.73 d_acc : 0.48 g_loss: 0.84\n",
      "Epoch : 12900 d_loss : 0.57 d_acc : 0.77 g_loss: 0.94\n",
      "Epoch : 13000 d_loss : 0.60 d_acc : 0.66 g_loss: 0.97\n",
      "Epoch : 13100 d_loss : 0.75 d_acc : 0.46 g_loss: 0.80\n",
      "Epoch : 13200 d_loss : 0.63 d_acc : 0.69 g_loss: 0.81\n",
      "Epoch : 13300 d_loss : 0.75 d_acc : 0.49 g_loss: 0.84\n",
      "Epoch : 13400 d_loss : 0.66 d_acc : 0.58 g_loss: 0.85\n",
      "Epoch : 13500 d_loss : 0.67 d_acc : 0.59 g_loss: 0.87\n",
      "Epoch : 13600 d_loss : 0.71 d_acc : 0.48 g_loss: 0.92\n",
      "Epoch : 13700 d_loss : 0.61 d_acc : 0.67 g_loss: 0.82\n",
      "Epoch : 13800 d_loss : 0.66 d_acc : 0.57 g_loss: 0.87\n",
      "Epoch : 13900 d_loss : 0.72 d_acc : 0.52 g_loss: 1.05\n",
      "Epoch : 14000 d_loss : 0.65 d_acc : 0.57 g_loss: 0.75\n",
      "Epoch : 14100 d_loss : 0.64 d_acc : 0.59 g_loss: 0.80\n",
      "Epoch : 14200 d_loss : 0.65 d_acc : 0.63 g_loss: 0.84\n",
      "Epoch : 14300 d_loss : 0.68 d_acc : 0.61 g_loss: 0.84\n",
      "Epoch : 14400 d_loss : 0.61 d_acc : 0.64 g_loss: 0.91\n",
      "Epoch : 14500 d_loss : 0.59 d_acc : 0.71 g_loss: 0.87\n",
      "Epoch : 14600 d_loss : 0.61 d_acc : 0.65 g_loss: 0.90\n",
      "Epoch : 14700 d_loss : 0.66 d_acc : 0.60 g_loss: 0.91\n",
      "Epoch : 14800 d_loss : 0.56 d_acc : 0.71 g_loss: 1.01\n",
      "Epoch : 14900 d_loss : 0.70 d_acc : 0.58 g_loss: 0.84\n",
      "Epoch : 15000 d_loss : 0.63 d_acc : 0.63 g_loss: 0.89\n",
      "Epoch : 15100 d_loss : 0.70 d_acc : 0.54 g_loss: 0.90\n",
      "Epoch : 15200 d_loss : 0.73 d_acc : 0.51 g_loss: 0.81\n",
      "Epoch : 15300 d_loss : 0.62 d_acc : 0.63 g_loss: 0.91\n",
      "Epoch : 15400 d_loss : 0.65 d_acc : 0.59 g_loss: 0.89\n",
      "Epoch : 15500 d_loss : 0.61 d_acc : 0.71 g_loss: 0.99\n",
      "Epoch : 15600 d_loss : 0.60 d_acc : 0.67 g_loss: 0.81\n",
      "Epoch : 15700 d_loss : 0.58 d_acc : 0.69 g_loss: 1.03\n",
      "Epoch : 15800 d_loss : 0.64 d_acc : 0.59 g_loss: 0.88\n",
      "Epoch : 15900 d_loss : 0.60 d_acc : 0.66 g_loss: 0.93\n",
      "Epoch : 16000 d_loss : 0.60 d_acc : 0.65 g_loss: 0.95\n",
      "Epoch : 16100 d_loss : 0.63 d_acc : 0.67 g_loss: 0.90\n",
      "Epoch : 16200 d_loss : 0.57 d_acc : 0.71 g_loss: 1.06\n",
      "Epoch : 16300 d_loss : 0.64 d_acc : 0.59 g_loss: 0.95\n",
      "Epoch : 16400 d_loss : 0.65 d_acc : 0.61 g_loss: 0.89\n",
      "Epoch : 16500 d_loss : 0.66 d_acc : 0.57 g_loss: 0.88\n",
      "Epoch : 16600 d_loss : 0.62 d_acc : 0.63 g_loss: 0.94\n",
      "Epoch : 16700 d_loss : 0.69 d_acc : 0.59 g_loss: 0.87\n",
      "Epoch : 16800 d_loss : 0.74 d_acc : 0.50 g_loss: 0.88\n",
      "Epoch : 16900 d_loss : 0.64 d_acc : 0.66 g_loss: 0.86\n",
      "Epoch : 17000 d_loss : 0.71 d_acc : 0.55 g_loss: 0.92\n",
      "Epoch : 17100 d_loss : 0.65 d_acc : 0.66 g_loss: 0.91\n",
      "Epoch : 17200 d_loss : 0.67 d_acc : 0.55 g_loss: 0.92\n",
      "Epoch : 17300 d_loss : 0.87 d_acc : 0.35 g_loss: 0.96\n",
      "Epoch : 17400 d_loss : 0.59 d_acc : 0.69 g_loss: 0.90\n",
      "Epoch : 17500 d_loss : 0.62 d_acc : 0.65 g_loss: 0.81\n",
      "Epoch : 17600 d_loss : 0.63 d_acc : 0.65 g_loss: 1.01\n",
      "Epoch : 17700 d_loss : 0.59 d_acc : 0.69 g_loss: 0.86\n",
      "Epoch : 17800 d_loss : 0.66 d_acc : 0.53 g_loss: 0.84\n",
      "Epoch : 17900 d_loss : 0.63 d_acc : 0.58 g_loss: 0.79\n",
      "Epoch : 18000 d_loss : 0.65 d_acc : 0.59 g_loss: 0.85\n",
      "Epoch : 18100 d_loss : 0.67 d_acc : 0.53 g_loss: 0.86\n",
      "Epoch : 18200 d_loss : 0.78 d_acc : 0.50 g_loss: 0.86\n",
      "Epoch : 18300 d_loss : 0.76 d_acc : 0.40 g_loss: 0.87\n",
      "Epoch : 18400 d_loss : 0.69 d_acc : 0.56 g_loss: 0.79\n",
      "Epoch : 18500 d_loss : 0.67 d_acc : 0.55 g_loss: 0.75\n",
      "Epoch : 18600 d_loss : 0.68 d_acc : 0.53 g_loss: 0.82\n",
      "Epoch : 18700 d_loss : 0.63 d_acc : 0.62 g_loss: 0.85\n",
      "Epoch : 18800 d_loss : 0.66 d_acc : 0.55 g_loss: 0.90\n",
      "Epoch : 18900 d_loss : 0.69 d_acc : 0.45 g_loss: 0.73\n",
      "Epoch : 19000 d_loss : 0.64 d_acc : 0.64 g_loss: 0.80\n",
      "Epoch : 19100 d_loss : 0.69 d_acc : 0.53 g_loss: 0.84\n",
      "Epoch : 19200 d_loss : 0.66 d_acc : 0.55 g_loss: 0.84\n",
      "Epoch : 19300 d_loss : 0.69 d_acc : 0.55 g_loss: 0.77\n",
      "Epoch : 19400 d_loss : 0.64 d_acc : 0.58 g_loss: 0.79\n",
      "Epoch : 19500 d_loss : 0.68 d_acc : 0.59 g_loss: 0.87\n",
      "Epoch : 19600 d_loss : 0.67 d_acc : 0.59 g_loss: 0.88\n",
      "Epoch : 19700 d_loss : 0.70 d_acc : 0.52 g_loss: 0.93\n",
      "Epoch : 19800 d_loss : 0.61 d_acc : 0.73 g_loss: 0.87\n",
      "Epoch : 19900 d_loss : 0.65 d_acc : 0.62 g_loss: 0.92\n",
      "Epoch : 20000 d_loss : 0.74 d_acc : 0.45 g_loss: 0.77\n",
      "Epoch : 20100 d_loss : 0.62 d_acc : 0.66 g_loss: 0.84\n",
      "Epoch : 20200 d_loss : 0.62 d_acc : 0.65 g_loss: 0.93\n",
      "Epoch : 20300 d_loss : 0.65 d_acc : 0.60 g_loss: 0.94\n",
      "Epoch : 20400 d_loss : 0.70 d_acc : 0.56 g_loss: 0.73\n",
      "Epoch : 20500 d_loss : 0.62 d_acc : 0.63 g_loss: 0.85\n",
      "Epoch : 20600 d_loss : 0.69 d_acc : 0.52 g_loss: 0.84\n",
      "Epoch : 20700 d_loss : 0.63 d_acc : 0.69 g_loss: 0.85\n",
      "Epoch : 20800 d_loss : 0.67 d_acc : 0.55 g_loss: 0.98\n",
      "Epoch : 20900 d_loss : 0.66 d_acc : 0.59 g_loss: 0.93\n",
      "Epoch : 21000 d_loss : 0.70 d_acc : 0.54 g_loss: 0.81\n",
      "Epoch : 21100 d_loss : 0.64 d_acc : 0.63 g_loss: 0.89\n",
      "Epoch : 21200 d_loss : 0.71 d_acc : 0.52 g_loss: 0.88\n",
      "Epoch : 21300 d_loss : 0.57 d_acc : 0.70 g_loss: 0.80\n",
      "Epoch : 21400 d_loss : 0.67 d_acc : 0.59 g_loss: 0.83\n",
      "Epoch : 21500 d_loss : 0.65 d_acc : 0.58 g_loss: 0.98\n",
      "Epoch : 21600 d_loss : 0.58 d_acc : 0.71 g_loss: 0.96\n",
      "Epoch : 21700 d_loss : 0.68 d_acc : 0.55 g_loss: 0.83\n",
      "Epoch : 21800 d_loss : 0.65 d_acc : 0.63 g_loss: 0.88\n",
      "Epoch : 21900 d_loss : 0.67 d_acc : 0.58 g_loss: 0.86\n",
      "Epoch : 22000 d_loss : 0.67 d_acc : 0.62 g_loss: 0.89\n",
      "Epoch : 22100 d_loss : 0.72 d_acc : 0.38 g_loss: 0.90\n",
      "Epoch : 22200 d_loss : 0.61 d_acc : 0.71 g_loss: 1.01\n",
      "Epoch : 22300 d_loss : 0.59 d_acc : 0.66 g_loss: 0.94\n",
      "Epoch : 22400 d_loss : 0.72 d_acc : 0.47 g_loss: 0.82\n",
      "Epoch : 22500 d_loss : 0.75 d_acc : 0.41 g_loss: 0.80\n",
      "Epoch : 22600 d_loss : 0.62 d_acc : 0.66 g_loss: 0.90\n",
      "Epoch : 22700 d_loss : 0.67 d_acc : 0.55 g_loss: 0.91\n",
      "Epoch : 22800 d_loss : 0.72 d_acc : 0.47 g_loss: 0.89\n",
      "Epoch : 22900 d_loss : 0.71 d_acc : 0.42 g_loss: 0.93\n",
      "Epoch : 23000 d_loss : 0.67 d_acc : 0.56 g_loss: 0.90\n",
      "Epoch : 23100 d_loss : 0.67 d_acc : 0.59 g_loss: 0.87\n",
      "Epoch : 23200 d_loss : 0.67 d_acc : 0.61 g_loss: 0.87\n",
      "Epoch : 23300 d_loss : 0.62 d_acc : 0.66 g_loss: 0.92\n",
      "Epoch : 23400 d_loss : 0.66 d_acc : 0.60 g_loss: 1.00\n",
      "Epoch : 23500 d_loss : 0.62 d_acc : 0.73 g_loss: 0.89\n",
      "Epoch : 23600 d_loss : 0.65 d_acc : 0.60 g_loss: 0.85\n",
      "Epoch : 23700 d_loss : 0.67 d_acc : 0.59 g_loss: 0.90\n",
      "Epoch : 23800 d_loss : 0.68 d_acc : 0.59 g_loss: 0.83\n",
      "Epoch : 23900 d_loss : 0.72 d_acc : 0.58 g_loss: 0.91\n",
      "Epoch : 24000 d_loss : 0.66 d_acc : 0.55 g_loss: 0.84\n",
      "Epoch : 24100 d_loss : 0.71 d_acc : 0.52 g_loss: 0.88\n",
      "Epoch : 24200 d_loss : 0.63 d_acc : 0.68 g_loss: 0.87\n",
      "Epoch : 24300 d_loss : 0.65 d_acc : 0.57 g_loss: 0.91\n",
      "Epoch : 24400 d_loss : 0.66 d_acc : 0.55 g_loss: 0.83\n",
      "Epoch : 24500 d_loss : 0.63 d_acc : 0.61 g_loss: 0.89\n",
      "Epoch : 24600 d_loss : 0.71 d_acc : 0.53 g_loss: 0.86\n",
      "Epoch : 24700 d_loss : 0.68 d_acc : 0.55 g_loss: 0.91\n",
      "Epoch : 24800 d_loss : 0.63 d_acc : 0.66 g_loss: 0.84\n",
      "Epoch : 24900 d_loss : 0.65 d_acc : 0.68 g_loss: 0.86\n",
      "Epoch : 25000 d_loss : 0.69 d_acc : 0.54 g_loss: 0.84\n",
      "Epoch : 25100 d_loss : 1.56 d_acc : 0.45 g_loss: 1.00\n",
      "Epoch : 25200 d_loss : 0.66 d_acc : 0.60 g_loss: 0.81\n",
      "Epoch : 25300 d_loss : 0.57 d_acc : 0.77 g_loss: 0.91\n",
      "Epoch : 25400 d_loss : 0.67 d_acc : 0.62 g_loss: 0.90\n",
      "Epoch : 25500 d_loss : 0.65 d_acc : 0.62 g_loss: 0.96\n",
      "Epoch : 25600 d_loss : 0.68 d_acc : 0.55 g_loss: 0.84\n",
      "Epoch : 25700 d_loss : 0.69 d_acc : 0.59 g_loss: 0.89\n",
      "Epoch : 25800 d_loss : 0.67 d_acc : 0.59 g_loss: 0.99\n",
      "Epoch : 25900 d_loss : 0.60 d_acc : 0.69 g_loss: 0.91\n",
      "Epoch : 26000 d_loss : 0.59 d_acc : 0.66 g_loss: 0.90\n",
      "Epoch : 26100 d_loss : 0.72 d_acc : 0.48 g_loss: 0.88\n",
      "Epoch : 26200 d_loss : 0.63 d_acc : 0.70 g_loss: 0.96\n",
      "Epoch : 26300 d_loss : 0.66 d_acc : 0.60 g_loss: 0.87\n",
      "Epoch : 26400 d_loss : 0.70 d_acc : 0.59 g_loss: 0.85\n",
      "Epoch : 26500 d_loss : 0.64 d_acc : 0.59 g_loss: 0.90\n",
      "Epoch : 26600 d_loss : 0.70 d_acc : 0.53 g_loss: 0.92\n",
      "Epoch : 26700 d_loss : 0.63 d_acc : 0.62 g_loss: 0.88\n",
      "Epoch : 26800 d_loss : 0.59 d_acc : 0.66 g_loss: 0.95\n",
      "Epoch : 26900 d_loss : 0.64 d_acc : 0.63 g_loss: 0.91\n",
      "Epoch : 27000 d_loss : 0.58 d_acc : 0.75 g_loss: 0.96\n",
      "Epoch : 27100 d_loss : 0.64 d_acc : 0.61 g_loss: 0.88\n",
      "Epoch : 27200 d_loss : 0.62 d_acc : 0.73 g_loss: 0.94\n",
      "Epoch : 27300 d_loss : 0.67 d_acc : 0.59 g_loss: 0.87\n",
      "Epoch : 27400 d_loss : 0.63 d_acc : 0.63 g_loss: 0.90\n",
      "Epoch : 27500 d_loss : 0.55 d_acc : 0.80 g_loss: 0.96\n",
      "Epoch : 27600 d_loss : 0.65 d_acc : 0.57 g_loss: 0.91\n",
      "Epoch : 27700 d_loss : 0.60 d_acc : 0.68 g_loss: 0.96\n",
      "Epoch : 27800 d_loss : 0.63 d_acc : 0.69 g_loss: 0.88\n",
      "Epoch : 27900 d_loss : 0.66 d_acc : 0.54 g_loss: 0.87\n",
      "Epoch : 28000 d_loss : 0.69 d_acc : 0.52 g_loss: 0.93\n",
      "Epoch : 28100 d_loss : 0.64 d_acc : 0.61 g_loss: 0.87\n",
      "Epoch : 28200 d_loss : 0.64 d_acc : 0.61 g_loss: 0.92\n",
      "Epoch : 28300 d_loss : 0.63 d_acc : 0.68 g_loss: 0.98\n",
      "Epoch : 28400 d_loss : 0.56 d_acc : 0.70 g_loss: 0.92\n",
      "Epoch : 28500 d_loss : 0.66 d_acc : 0.55 g_loss: 0.86\n",
      "Epoch : 28600 d_loss : 0.67 d_acc : 0.54 g_loss: 0.83\n",
      "Epoch : 28700 d_loss : 0.68 d_acc : 0.50 g_loss: 0.92\n",
      "Epoch : 28800 d_loss : 0.62 d_acc : 0.68 g_loss: 0.90\n",
      "Epoch : 28900 d_loss : 0.63 d_acc : 0.59 g_loss: 0.99\n",
      "Epoch : 29000 d_loss : 0.60 d_acc : 0.70 g_loss: 0.91\n",
      "Epoch : 29100 d_loss : 0.59 d_acc : 0.72 g_loss: 0.89\n",
      "Epoch : 29200 d_loss : 0.63 d_acc : 0.66 g_loss: 0.90\n",
      "Epoch : 29300 d_loss : 0.60 d_acc : 0.62 g_loss: 0.82\n",
      "Epoch : 29400 d_loss : 0.58 d_acc : 0.76 g_loss: 0.94\n",
      "Epoch : 29500 d_loss : 0.63 d_acc : 0.64 g_loss: 0.91\n",
      "Epoch : 29600 d_loss : 0.64 d_acc : 0.63 g_loss: 0.87\n",
      "Epoch : 29700 d_loss : 0.65 d_acc : 0.62 g_loss: 0.98\n",
      "Epoch : 29800 d_loss : 0.61 d_acc : 0.68 g_loss: 1.03\n",
      "Epoch : 29900 d_loss : 0.57 d_acc : 0.73 g_loss: 0.89\n"
     ]
    }
   ],
   "source": [
    "\n",
    "for epoch in range(EPOCHS):\n",
    "    ids = np.random.randint(0,x_train.shape[0],BATCH_SIZE)\n",
    "    real_imgs = x_train[ids]\n",
    "\n",
    "    noise = np.random.randn(BATCH_SIZE,LATENT_DIM)\n",
    "    fake_imgs = generator_model(noise)\n",
    "\n",
    "    d_loss_real , d_acc_real = disc_model.train_on_batch(real_imgs,ones)\n",
    "    d_loss_fake , d_acc_fake = disc_model.train_on_batch(fake_imgs,zeros)\n",
    "\n",
    "    \n",
    "    d_loss = (d_loss_real+d_loss_fake)/2\n",
    "    d_acc = (d_acc_real+d_acc_fake)/2\n",
    "\n",
    "    noise = np.random.randn(BATCH_SIZE,LATENT_DIM)\n",
    "    g_loss = combined_model.train_on_batch(noise,ones)\n",
    "\n",
    "    noise = np.random.randn(BATCH_SIZE,LATENT_DIM)\n",
    "    g_loss = combined_model.train_on_batch(noise,ones)\n",
    "\n",
    "    d_losses.append(d_loss)\n",
    "    g_losses.append(g_loss)\n",
    "\n",
    "    if epoch%100 == 0 :\n",
    "        print(f\"Epoch : {epoch} d_loss : {d_loss:.2f} d_acc : {d_acc:.2f} g_loss: {g_loss:.2f}\")\n",
    "\n",
    "    if epoch%SAMPLE_PERIOD==0:\n",
    "        save_sample(epoch)"
   ]
  },
  {
   "cell_type": "code",
   "execution_count": null,
   "metadata": {},
   "outputs": [],
   "source": []
  }
 ],
 "metadata": {
  "accelerator": "GPU",
  "colab": {
   "collapsed_sections": [],
   "name": "DCGAN.ipynb",
   "provenance": []
  },
  "kernelspec": {
   "display_name": "cv",
   "language": "python",
   "name": "cv"
  },
  "language_info": {
   "codemirror_mode": {
    "name": "ipython",
    "version": 3
   },
   "file_extension": ".py",
   "mimetype": "text/x-python",
   "name": "python",
   "nbconvert_exporter": "python",
   "pygments_lexer": "ipython3",
   "version": "3.8.8"
  }
 },
 "nbformat": 4,
 "nbformat_minor": 4
}
